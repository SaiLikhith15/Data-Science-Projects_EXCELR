{
  "nbformat": 4,
  "nbformat_minor": 0,
  "metadata": {
    "colab": {
      "private_outputs": true,
      "provenance": []
    },
    "kernelspec": {
      "name": "python3",
      "display_name": "Python 3"
    },
    "language_info": {
      "name": "python"
    }
  },
  "cells": [
    {
      "cell_type": "code",
      "execution_count": null,
      "metadata": {
        "id": "voqgvMeGJbd5"
      },
      "outputs": [],
      "source": [
        "import pandas as pd\n",
        "import numpy as np\n",
        "from sklearn.preprocessing import StandardScaler\n",
        "from sklearn.cluster import KMeans\n",
        "import matplotlib.pyplot as plt\n",
        "import seaborn as sns\n",
        "import datetime as dt"
      ]
    },
    {
      "cell_type": "code",
      "source": [
        "# Ignore harmless warnings\n",
        "import warnings\n",
        "warnings.filterwarnings(\"ignore\")"
      ],
      "metadata": {
        "id": "4LwQqi4RJeJM"
      },
      "execution_count": null,
      "outputs": []
    },
    {
      "cell_type": "code",
      "source": [
        "from google.colab import files\n",
        "uploaded = files.upload()"
      ],
      "metadata": {
        "id": "JvnJwE1aJgBN"
      },
      "execution_count": null,
      "outputs": []
    },
    {
      "cell_type": "code",
      "source": [
        "for filename in uploaded.keys():\n",
        "    print(f'Uploaded file: {filename}')"
      ],
      "metadata": {
        "id": "cQc9q3N8Jr9b"
      },
      "execution_count": null,
      "outputs": []
    },
    {
      "cell_type": "code",
      "source": [
        "# Read the Excel file into a DataFrame\n",
        "data = pd.read_excel('marketing_campaign.xlsx')"
      ],
      "metadata": {
        "id": "G_qFcDTFJyuP"
      },
      "execution_count": null,
      "outputs": []
    },
    {
      "cell_type": "code",
      "source": [
        "data"
      ],
      "metadata": {
        "id": "PtMbGZsvJ9PJ"
      },
      "execution_count": null,
      "outputs": []
    },
    {
      "cell_type": "code",
      "source": [
        "# Display the DataFrame\n",
        "print(data.head())"
      ],
      "metadata": {
        "id": "TOsFuE-6J-9c"
      },
      "execution_count": null,
      "outputs": []
    },
    {
      "cell_type": "code",
      "source": [
        "# Print the last 5 rows of the DataFrame\n",
        "print(data.tail())"
      ],
      "metadata": {
        "id": "I_foHEkDKHVX"
      },
      "execution_count": null,
      "outputs": []
    },
    {
      "cell_type": "code",
      "source": [
        "# Columns of the Dataset\n",
        "print(data.columns)"
      ],
      "metadata": {
        "id": "uEatGgEuKOmC"
      },
      "execution_count": null,
      "outputs": []
    },
    {
      "cell_type": "code",
      "source": [
        "# Data types present in the DataSet\n",
        "print(data.dtypes)"
      ],
      "metadata": {
        "id": "6ZLBQG8AKRWO"
      },
      "execution_count": null,
      "outputs": []
    },
    {
      "cell_type": "code",
      "source": [
        "# Display basic information about the dataset\n",
        "print(data.info())"
      ],
      "metadata": {
        "id": "Y2PspjG_KW_s"
      },
      "execution_count": null,
      "outputs": []
    },
    {
      "cell_type": "code",
      "source": [
        "# Display summary statistics\n",
        "print(data.describe())"
      ],
      "metadata": {
        "id": "VZUARJrMKcki"
      },
      "execution_count": null,
      "outputs": []
    },
    {
      "cell_type": "code",
      "source": [
        "# Display summary statistics\n",
        "statistics = data.describe()\n",
        "statistics.loc['mode'] = data.mode().iloc[0]\n",
        "print(statistics)"
      ],
      "metadata": {
        "id": "YxSn5omSKhyn"
      },
      "execution_count": null,
      "outputs": []
    },
    {
      "cell_type": "code",
      "source": [
        "# Handle missing values in 'Income'\n",
        "data['Income'].fillna(data['Income'].median(), inplace=True)"
      ],
      "metadata": {
        "id": "QDbwJHosKmkw"
      },
      "execution_count": null,
      "outputs": []
    },
    {
      "cell_type": "code",
      "source": [
        "# Convert 'Dt_Customer' to datetime format\n",
        "data['Dt_Customer'] = pd.to_datetime(data['Dt_Customer'])"
      ],
      "metadata": {
        "id": "Y-sn5RrXKwc3"
      },
      "execution_count": null,
      "outputs": []
    },
    {
      "cell_type": "code",
      "source": [
        "# Assuming the data from multiple sources have been merged into `data`.\n",
        "# Display a preview of the data\n",
        "data.head()"
      ],
      "metadata": {
        "id": "qlsupV5dKzQb"
      },
      "execution_count": null,
      "outputs": []
    },
    {
      "cell_type": "code",
      "source": [
        "# Feature segmentation for RFM analysis\n",
        "# Assume today is the last date in the dataset\n",
        "today = dt.datetime(2024, 7, 3)"
      ],
      "metadata": {
        "id": "SLZi_WjiK9VX"
      },
      "execution_count": null,
      "outputs": []
    },
    {
      "cell_type": "code",
      "source": [
        "# Calculate Recency\n",
        "data['Recency'] = (today - data['Dt_Customer']).dt.days"
      ],
      "metadata": {
        "id": "q4QtrMTrLAF1"
      },
      "execution_count": null,
      "outputs": []
    },
    {
      "cell_type": "code",
      "source": [
        "# Calculate Frequency\n",
        "data['Frequency'] = data[['NumWebPurchases', 'NumCatalogPurchases', 'NumStorePurchases']].sum(axis=1)"
      ],
      "metadata": {
        "id": "2cDk3cNLLCu_"
      },
      "execution_count": null,
      "outputs": []
    },
    {
      "cell_type": "code",
      "source": [
        "# Calculate Monetary\n",
        "data['Monetary'] = data[['MntWines', 'MntFruits', 'MntMeatProducts', 'MntFishProducts', 'MntSweetProducts', 'MntGoldProds']].sum(axis=1)"
      ],
      "metadata": {
        "id": "3tzpu04BLFmc"
      },
      "execution_count": null,
      "outputs": []
    },
    {
      "cell_type": "code",
      "source": [
        "# Display the first few rows with the new RFM columns\n",
        "data[['ID', 'Recency', 'Frequency', 'Monetary']].head()"
      ],
      "metadata": {
        "id": "P5epYB7-LJB2"
      },
      "execution_count": null,
      "outputs": []
    },
    {
      "cell_type": "code",
      "source": [
        "# Standardize the RFM values\n",
        "scaler = StandardScaler()\n",
        "rfm_scaled = scaler.fit_transform(data[['Recency', 'Frequency', 'Monetary']])"
      ],
      "metadata": {
        "id": "4FDA-gtiLOSt"
      },
      "execution_count": null,
      "outputs": []
    },
    {
      "cell_type": "code",
      "source": [
        "# Encode categorical features if necessary (example for 'Education')\n",
        "data = pd.get_dummies(data, columns=['Education', 'Marital_Status'], drop_first=True)"
      ],
      "metadata": {
        "id": "DQJrkPPfLQtI"
      },
      "execution_count": null,
      "outputs": []
    },
    {
      "cell_type": "code",
      "source": [
        "# Exploratory Data Analysis\n",
        "plt.figure(figsize=(10, 6))\n",
        "sns.histplot(data['Recency'], bins=30)\n",
        "plt.title('Distribution of Recency')\n",
        "plt.show()"
      ],
      "metadata": {
        "id": "_RaaBqUDLUMP"
      },
      "execution_count": null,
      "outputs": []
    },
    {
      "cell_type": "code",
      "source": [
        "plt.figure(figsize=(10, 6))\n",
        "sns.histplot(data['Frequency'], bins=30)\n",
        "plt.title('Distribution of Frequency')\n",
        "plt.show()"
      ],
      "metadata": {
        "id": "MPxHCBh7LXzJ"
      },
      "execution_count": null,
      "outputs": []
    },
    {
      "cell_type": "code",
      "source": [
        "plt.figure(figsize=(10, 6))\n",
        "sns.histplot(data['Monetary'], bins=30)\n",
        "plt.title('Distribution of Monetary')\n",
        "plt.show()"
      ],
      "metadata": {
        "id": "TYFGGz48LbHw"
      },
      "execution_count": null,
      "outputs": []
    },
    {
      "cell_type": "code",
      "source": [
        "# Pairplot for RFM\n",
        "sns.pairplot(data[['Recency', 'Frequency', 'Monetary']])\n",
        "plt.show()"
      ],
      "metadata": {
        "id": "dZyaAg0BLems"
      },
      "execution_count": null,
      "outputs": []
    },
    {
      "cell_type": "code",
      "source": [
        "# Correlational Analysis\n",
        "corr = data[['Recency', 'Frequency', 'Monetary']].corr()\n",
        "plt.figure(figsize=(8, 6))\n",
        "sns.heatmap(corr, annot=True, cmap='coolwarm')\n",
        "plt.title('Correlation Matrix')\n",
        "plt.show()"
      ],
      "metadata": {
        "id": "NyHg0PmkLhX3"
      },
      "execution_count": null,
      "outputs": []
    },
    {
      "cell_type": "code",
      "source": [
        "# Determine the optimal number of clusters using the Elbow method\n",
        "sse = []\n",
        "for k in range(1, 11):\n",
        "    kmeans = KMeans(n_clusters=k, random_state=42)\n",
        "    kmeans.fit(rfm_scaled)\n",
        "    sse.append(kmeans.inertia_)"
      ],
      "metadata": {
        "id": "dVoiUWSMLmLH"
      },
      "execution_count": null,
      "outputs": []
    },
    {
      "cell_type": "code",
      "source": [
        "# Plot the SSE against the number of clusters\n",
        "plt.figure(figsize=(10, 6))\n",
        "plt.plot(range(1, 11), sse, marker='o')\n",
        "plt.xlabel('Number of clusters')\n",
        "plt.ylabel('SSE')\n",
        "plt.title('Elbow Method')\n",
        "plt.show()"
      ],
      "metadata": {
        "id": "mbwZnup4LpYs"
      },
      "execution_count": null,
      "outputs": []
    },
    {
      "cell_type": "code",
      "source": [
        "# Fit the K-means model with the optimal number of clusters (let's assume 4 clusters from the elbow method)\n",
        "optimal_clusters = 4\n",
        "kmeans = KMeans(n_clusters=optimal_clusters, random_state=42)\n",
        "data['Cluster'] = kmeans.fit_predict(rfm_scaled)"
      ],
      "metadata": {
        "id": "RnyEoav-LvPa"
      },
      "execution_count": null,
      "outputs": []
    },
    {
      "cell_type": "code",
      "source": [
        "# Display the first few rows with cluster labels\n",
        "data[['ID', 'Recency', 'Frequency', 'Monetary', 'Cluster']].head()"
      ],
      "metadata": {
        "id": "OTkETd58Ly_E"
      },
      "execution_count": null,
      "outputs": []
    },
    {
      "cell_type": "code",
      "source": [
        "# Analyze the clusters\n",
        "cluster_summary = data.groupby('Cluster').agg({\n",
        "    'Recency': 'mean',\n",
        "    'Frequency': 'mean',\n",
        "    'Monetary': 'mean',\n",
        "    'ID': 'count'\n",
        "}).rename(columns={'ID': 'CustomerCount'}).reset_index()\n",
        "\n",
        "print(cluster_summary)"
      ],
      "metadata": {
        "id": "a6EySBfDL2Jg"
      },
      "execution_count": null,
      "outputs": []
    },
    {
      "cell_type": "code",
      "source": [
        "# Visualize the clusters\n",
        "plt.figure(figsize=(10, 6))\n",
        "sns.scatterplot(x='Recency', y='Monetary', hue='Cluster', data=data, palette='Set1')\n",
        "plt.title('Customer Segments by Recency and Monetary')\n",
        "plt.show()"
      ],
      "metadata": {
        "id": "qS6Q7SkNL6EY"
      },
      "execution_count": null,
      "outputs": []
    },
    {
      "cell_type": "code",
      "source": [
        "# Calculate RFM scores\n",
        "data['R_Score'] = pd.qcut(data['Recency'], 4, labels=[4, 3, 2, 1])\n",
        "data['F_Score'] = pd.qcut(data['Frequency'].rank(method='first'), 4, labels=[1, 2, 3, 4])\n",
        "data['M_Score'] = pd.qcut(data['Monetary'], 4, labels=[1, 2, 3, 4])"
      ],
      "metadata": {
        "id": "vkEpMlcyL9gP"
      },
      "execution_count": null,
      "outputs": []
    },
    {
      "cell_type": "code",
      "source": [
        "# Combine RFM scores\n",
        "data['RFM_Score'] = data['R_Score'].astype(str) + data['F_Score'].astype(str) + data['M_Score'].astype(str)"
      ],
      "metadata": {
        "id": "i_13upBIMBT1"
      },
      "execution_count": null,
      "outputs": []
    },
    {
      "cell_type": "code",
      "source": [
        "# Display the first few rows with RFM scores\n",
        "data[['ID', 'Recency', 'Frequency', 'Monetary', 'RFM_Score']].head()"
      ],
      "metadata": {
        "id": "1PVc4xKPMEdY"
      },
      "execution_count": null,
      "outputs": []
    },
    {
      "cell_type": "code",
      "source": [
        "# Analyze the RFM segments\n",
        "rfm_summary = data.groupby('RFM_Score').agg({\n",
        "    'Recency': 'mean',\n",
        "    'Frequency': 'mean',\n",
        "    'Monetary': 'mean',\n",
        "    'ID': 'count'\n",
        "}).rename(columns={'ID': 'CustomerCount'}).reset_index()\n",
        "\n",
        "print(rfm_summary)"
      ],
      "metadata": {
        "id": "YceUAqqeMH6v"
      },
      "execution_count": null,
      "outputs": []
    },
    {
      "cell_type": "code",
      "source": [
        "# Visualize RFM segments\n",
        "plt.figure(figsize=(12, 8))\n",
        "sns.scatterplot(x='Frequency', y='Monetary', hue='RFM_Score', data=data, palette='tab20', legend=None)\n",
        "plt.title('RFM Segments by Frequency and Monetary')\n",
        "plt.show()"
      ],
      "metadata": {
        "id": "HYPsyRywMLqK"
      },
      "execution_count": null,
      "outputs": []
    },
    {
      "cell_type": "code",
      "source": [
        "# Standardize the RFM values\n",
        "scaler = StandardScaler()\n",
        "rfm_scaled = scaler.fit_transform(data[['Recency', 'Frequency', 'Monetary']])"
      ],
      "metadata": {
        "id": "wwMdrKFrMPP9"
      },
      "execution_count": null,
      "outputs": []
    },
    {
      "cell_type": "code",
      "source": [
        "# Build and train a K-means clustering model\n",
        "from sklearn.cluster import KMeans"
      ],
      "metadata": {
        "id": "AAYi2g_hODeK"
      },
      "execution_count": null,
      "outputs": []
    },
    {
      "cell_type": "code",
      "source": [
        "# Determine the optimal number of clusters using the Elbow method\n",
        "sse = []\n",
        "for k in range(1, 11):\n",
        "    kmeans = KMeans(n_clusters=k, random_state=42)\n",
        "    kmeans.fit(rfm_scaled)\n",
        "    sse.append(kmeans.inertia_)"
      ],
      "metadata": {
        "id": "UgXmxwPTOV5V"
      },
      "execution_count": null,
      "outputs": []
    },
    {
      "cell_type": "code",
      "source": [
        "# Fit the K-means model with the optimal number of clusters (let's assume 4 clusters from the elbow method)\n",
        "optimal_clusters = 4\n",
        "kmeans = KMeans(n_clusters=optimal_clusters, random_state=42)\n",
        "data['Cluster'] = kmeans.fit_predict(rfm_scaled)"
      ],
      "metadata": {
        "id": "oyR4ksStOYyk"
      },
      "execution_count": null,
      "outputs": []
    },
    {
      "cell_type": "code",
      "source": [
        "# Analyze the clusters\n",
        "cluster_summary = data.groupby('Cluster').agg({\n",
        "    'Recency': 'mean',\n",
        "    'Frequency': 'mean',\n",
        "    'Monetary': 'mean',\n",
        "    'ID': 'count'\n",
        "}).rename(columns={'ID': 'CustomerCount'}).reset_index()"
      ],
      "metadata": {
        "id": "9_nAoPZXOdqc"
      },
      "execution_count": null,
      "outputs": []
    },
    {
      "cell_type": "code",
      "source": [
        "print(cluster_summary)"
      ],
      "metadata": {
        "id": "4xPXgRr8Oik6"
      },
      "execution_count": null,
      "outputs": []
    },
    {
      "cell_type": "code",
      "source": [
        "pip install flask"
      ],
      "metadata": {
        "id": "phIJpn3gOl0H"
      },
      "execution_count": null,
      "outputs": []
    },
    {
      "cell_type": "code",
      "source": [
        "\"from flask import Flask, request, jsonify\n",
        "import pickle\n",
        "import numpy as np\n",
        "\n",
        "app = Flask(__name__)\n",
        "\n",
        "# Load the trained model\n",
        "with open('kmeans_model.pkl', 'rb') as f:\n",
        "    kmeans = pickle.load(f)\n",
        "\n",
        "# Load the scaler\n",
        "with open('scaler.pkl', 'rb') as f:\n",
        "    scaler = pickle.load(f)\n",
        "\n",
        "@app.route('/predict', methods=['POST'])\n",
        "def predict():\n",
        "    data = request.json\n",
        "    rfm = np.array([data['Recency'], data['Frequency'], data['Monetary']]).reshape(1, -1)\n",
        "    rfm_scaled = scaler.transform(rfm)\n",
        "    cluster = kmeans.predict(rfm_scaled)\n",
        "    return jsonify({'Cluster': int(cluster[0])})\n",
        "\n",
        "if __name__ == '__main__':\n",
        "    app.run(debug=True)\"\n"
      ],
      "metadata": {
        "id": "ML4tWVLyPa5D"
      },
      "execution_count": null,
      "outputs": []
    },
    {
      "cell_type": "code",
      "source": [
        "import pickle\n",
        "from sklearn.preprocessing import StandardScaler\n",
        "from sklearn.cluster import KMeans\n",
        "\n",
        "# Assuming kmeans and scaler are already trained\n",
        "with open('kmeans_model.pkl', 'wb') as f:\n",
        "    pickle.dump(kmeans, f)\n",
        "\n",
        "with open('scaler.pkl', 'wb') as f:\n",
        "    pickle.dump(scaler, f)"
      ],
      "metadata": {
        "id": "OQGX8nM0RkO8"
      },
      "execution_count": null,
      "outputs": []
    },
    {
      "cell_type": "code",
      "source": [
        "pyinstaller --onefile --add-data \"kmeans_model.pkl:.\" --add-data \"scaler.pkl:.\" app.py"
      ],
      "metadata": {
        "id": "5YH2KT-5RppX"
      },
      "execution_count": null,
      "outputs": []
    },
    {
      "cell_type": "code",
      "source": [],
      "metadata": {
        "id": "CwsF24MpRpZW"
      },
      "execution_count": null,
      "outputs": []
    }
  ]
}